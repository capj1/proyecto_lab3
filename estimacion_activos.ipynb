{
 "cells": [
  {
   "cell_type": "code",
   "execution_count": 369,
   "metadata": {},
   "outputs": [],
   "source": [
    "import pickle\n",
    "import pandas as pd\n",
    "import numpy as np\n",
    "import matplotlib.pyplot as plt\n",
    "import string"
   ]
  },
  {
   "cell_type": "code",
   "execution_count": 370,
   "metadata": {},
   "outputs": [],
   "source": [
    "# Carga de datos\n",
    "calculo_de_flujos  = pd.read_pickle(r'Pagos_beneficio_mensuales.pickle')\n",
    "rendimientos = pd.read_excel(\"TasaRendimientoActuarial.xlsx\",sheet_name='Nueva Metodología',header=6)\n",
    "rendimientos = rendimientos[['Período','Activo Neto- Valor de Mercado','Cotizaciones Netas ','Pago de Pensiones']] # Variables de interes\n",
    "rendimientos=rendimientos[rendimientos['Período']<'2022-07-01'] # periodo a utilizar para proyeccion"
   ]
  },
  {
   "cell_type": "code",
   "execution_count": 371,
   "metadata": {},
   "outputs": [],
   "source": [
    "Activo_lagueado = np.append(np.nan,[rendimientos['Activo Neto- Valor de Mercado'][x] for x in range(0,len(rendimientos['Cotizaciones Netas ']) -1) ]) # Columna de activo pasado"
   ]
  },
  {
   "cell_type": "code",
   "execution_count": 375,
   "metadata": {},
   "outputs": [],
   "source": [
    "rendimientos['Activo_lagueado'] = Activo_lagueado"
   ]
  },
  {
   "cell_type": "markdown",
   "metadata": {},
   "source": [
    "Supuesto: Se asume que el pago de pensión se hizo a mitad del mes y que se recibió la cotización a mitad del mes, por ende, solo tuvieron rendimientos de medio mes."
   ]
  },
  {
   "cell_type": "code",
   "execution_count": 376,
   "metadata": {},
   "outputs": [],
   "source": [
    "rendimientos['tasa_rendimiento'] = 2*(rendimientos['Activo Neto- Valor de Mercado'] - rendimientos['Activo_lagueado'] -  rendimientos['Cotizaciones Netas ']  + rendimientos['Pago de Pensiones'])/(2*rendimientos['Activo_lagueado'] +  rendimientos['Cotizaciones Netas ']  - rendimientos['Pago de Pensiones'])"
   ]
  },
  {
   "cell_type": "code",
   "execution_count": 377,
   "metadata": {},
   "outputs": [
    {
     "data": {
      "text/plain": [
       "(array([ 1.,  0.,  0.,  1.,  1.,  0.,  0.,  1.,  1.,  1.,  1., 10., 10.,\n",
       "        28., 24.,  6.,  9.,  6.,  5.,  1.,  2.,  2.,  1.,  0.,  0.,  0.,\n",
       "         1.,  1.,  0.,  1.]),\n",
       " array([-0.01200954, -0.0106422 , -0.00927486, -0.00790752, -0.00654018,\n",
       "        -0.00517284, -0.0038055 , -0.00243817, -0.00107083,  0.00029651,\n",
       "         0.00166385,  0.00303119,  0.00439853,  0.00576587,  0.00713321,\n",
       "         0.00850055,  0.00986789,  0.01123523,  0.01260257,  0.01396991,\n",
       "         0.01533724,  0.01670458,  0.01807192,  0.01943926,  0.0208066 ,\n",
       "         0.02217394,  0.02354128,  0.02490862,  0.02627596,  0.0276433 ,\n",
       "         0.02901064]),\n",
       " <a list of 30 Patch objects>)"
      ]
     },
     "execution_count": 377,
     "metadata": {},
     "output_type": "execute_result"
    },
    {
     "data": {
      "image/png": "[encoded data removed]",
      "text/plain": [
       "<Figure size 432x288 with 1 Axes>"
      ]
     },
     "metadata": {
      "needs_background": "light"
     },
     "output_type": "display_data"
    }
   ],
   "source": [
    "plt.hist(rendimientos['tasa_rendimiento'], bins=30)"
   ]
  },
  {
   "cell_type": "code",
   "execution_count": 378,
   "metadata": {},
   "outputs": [
    {
     "data": {
      "text/html": [
       "<div>\n",
       "<style scoped>\n",
       "    .dataframe tbody tr th:only-of-type {\n",
       "        vertical-align: middle;\n",
       "    }\n",
       "\n",
       "    .dataframe tbody tr th {\n",
       "        vertical-align: top;\n",
       "    }\n",
       "\n",
       "    .dataframe thead th {\n",
       "        text-align: right;\n",
       "    }\n",
       "</style>\n",
       "<table border=\"1\" class=\"dataframe\">\n",
       "  <thead>\n",
       "    <tr style=\"text-align: right;\">\n",
       "      <th></th>\n",
       "      <th>Activo Neto- Valor de Mercado</th>\n",
       "      <th>Cotizaciones Netas</th>\n",
       "      <th>Pago de Pensiones</th>\n",
       "      <th>Activo_lagueado</th>\n",
       "      <th>tasa_rendimiento</th>\n",
       "    </tr>\n",
       "  </thead>\n",
       "  <tbody>\n",
       "    <tr>\n",
       "      <th>count</th>\n",
       "      <td>1.150000e+02</td>\n",
       "      <td>114.000000</td>\n",
       "      <td>114.000000</td>\n",
       "      <td>1.140000e+02</td>\n",
       "      <td>114.000000</td>\n",
       "    </tr>\n",
       "    <tr>\n",
       "      <th>mean</th>\n",
       "      <td>2.190636e+06</td>\n",
       "      <td>12613.402788</td>\n",
       "      <td>681.757567</td>\n",
       "      <td>2.173193e+06</td>\n",
       "      <td>0.007848</td>\n",
       "    </tr>\n",
       "    <tr>\n",
       "      <th>std</th>\n",
       "      <td>9.568622e+05</td>\n",
       "      <td>7892.579983</td>\n",
       "      <td>533.544863</td>\n",
       "      <td>9.425432e+05</td>\n",
       "      <td>0.005262</td>\n",
       "    </tr>\n",
       "    <tr>\n",
       "      <th>min</th>\n",
       "      <td>8.879092e+05</td>\n",
       "      <td>-55787.844227</td>\n",
       "      <td>144.107466</td>\n",
       "      <td>8.879092e+05</td>\n",
       "      <td>-0.012010</td>\n",
       "    </tr>\n",
       "    <tr>\n",
       "      <th>25%</th>\n",
       "      <td>1.328260e+06</td>\n",
       "      <td>9870.054809</td>\n",
       "      <td>263.499652</td>\n",
       "      <td>1.321949e+06</td>\n",
       "      <td>0.005985</td>\n",
       "    </tr>\n",
       "    <tr>\n",
       "      <th>50%</th>\n",
       "      <td>2.019179e+06</td>\n",
       "      <td>12698.270085</td>\n",
       "      <td>470.322317</td>\n",
       "      <td>2.013215e+06</td>\n",
       "      <td>0.007145</td>\n",
       "    </tr>\n",
       "    <tr>\n",
       "      <th>75%</th>\n",
       "      <td>3.053615e+06</td>\n",
       "      <td>15690.429102</td>\n",
       "      <td>993.364140</td>\n",
       "      <td>3.017601e+06</td>\n",
       "      <td>0.009800</td>\n",
       "    </tr>\n",
       "    <tr>\n",
       "      <th>max</th>\n",
       "      <td>4.179158e+06</td>\n",
       "      <td>28356.051802</td>\n",
       "      <td>2117.126675</td>\n",
       "      <td>4.093028e+06</td>\n",
       "      <td>0.029011</td>\n",
       "    </tr>\n",
       "  </tbody>\n",
       "</table>\n",
       "</div>"
      ],
      "text/plain": [
       "       Activo Neto- Valor de Mercado  Cotizaciones Netas   Pago de Pensiones  \\\n",
       "count                   1.150000e+02           114.000000         114.000000   \n",
       "mean                    2.190636e+06         12613.402788         681.757567   \n",
       "std                     9.568622e+05          7892.579983         533.544863   \n",
       "min                     8.879092e+05        -55787.844227         144.107466   \n",
       "25%                     1.328260e+06          9870.054809         263.499652   \n",
       "50%                     2.019179e+06         12698.270085         470.322317   \n",
       "75%                     3.053615e+06         15690.429102         993.364140   \n",
       "max                     4.179158e+06         28356.051802        2117.126675   \n",
       "\n",
       "       Activo_lagueado  tasa_rendimiento  \n",
       "count     1.140000e+02        114.000000  \n",
       "mean      2.173193e+06          0.007848  \n",
       "std       9.425432e+05          0.005262  \n",
       "min       8.879092e+05         -0.012010  \n",
       "25%       1.321949e+06          0.005985  \n",
       "50%       2.013215e+06          0.007145  \n",
       "75%       3.017601e+06          0.009800  \n",
       "max       4.093028e+06          0.029011  "
      ]
     },
     "execution_count": 378,
     "metadata": {},
     "output_type": "execute_result"
    }
   ],
   "source": [
    "rendimientos.describe()"
   ]
  },
  {
   "cell_type": "code",
   "execution_count": 379,
   "metadata": {},
   "outputs": [],
   "source": [
    "# Estimación pésima de rendimientos que me doy verguenza a mi mismo pero no puedo hacer nada más porque no hay información:\n",
    "rendimiento_esperado = rendimientos.tasa_rendimiento.mean()"
   ]
  },
  {
   "cell_type": "code",
   "execution_count": 380,
   "metadata": {},
   "outputs": [
    {
     "data": {
      "text/plain": [
       "[0.006832851396309601, 0.008784940349589626]"
      ]
     },
     "execution_count": 380,
     "metadata": {},
     "output_type": "execute_result"
    }
   ],
   "source": [
    "seguridad_de_estimador = [rendimientos.tasa_rendimiento.sample(115,replace=True).mean() for k in range(1000)]\n",
    "[2*rendimiento_esperado - np.quantile(seguridad_de_estimador,1-0.05/2) ,2*rendimiento_esperado - np.quantile(seguridad_de_estimador,0.05/2)  ]"
   ]
  },
  {
   "attachments": {
    "b6016996-e17f-4fd0-a09a-7a358eb2d02e.png": {
     "image/png": "[encoded data removed]"
    }
   },
   "cell_type": "markdown",
   "metadata": {},
   "source": [
    "![image.png](attachment:b6016996-e17f-4fd0-a09a-7a358eb2d02e.png)"
   ]
  },
  {
   "cell_type": "markdown",
   "metadata": {},
   "source": [
    "## Cálculo de flujos"
   ]
  },
  {
   "cell_type": "code",
   "execution_count": 381,
   "metadata": {},
   "outputs": [],
   "source": [
    "min_date = np.datetime64('2012-12')\n",
    "mid_date = np.datetime64('2022-06') \n",
    "max_date = mid_date+  np.timedelta64(len(calculo_de_flujos), 'M')\n",
    "periodo_1 = pd.period_range(min_date, mid_date, freq='M')\n",
    "periodo_2 = pd.period_range(mid_date+  np.timedelta64(1, 'M'), max_date, freq='M')"
   ]
  },
  {
   "cell_type": "code",
   "execution_count": 382,
   "metadata": {},
   "outputs": [],
   "source": [
    "rendimientos['Período'] = periodo_1"
   ]
  },
  {
   "cell_type": "code",
   "execution_count": 383,
   "metadata": {},
   "outputs": [],
   "source": [
    "for k in range(len(calculo_de_flujos)):\n",
    "    nuevo_activo = rendimientos.iloc[-1,1]*(1+rendimiento_esperado) + 0*(1+rendimiento_esperado/2) - calculo_de_flujos[k]/1000000*(1+rendimiento_esperado/2)\n",
    "    aux = pd.DataFrame({'X1':[periodo_2[k]],'X2': [nuevo_activo], 'X3': [0],'X4':[calculo_de_flujos[k]/1000000],'X5':[rendimientos.iloc[-1,1]],'X6':[rendimiento_esperado]})\n",
    "    aux.columns = rendimientos.columns\n",
    "    rendimientos = pd.concat([rendimientos,aux],ignore_index=True)\n",
    "    "
   ]
  },
  {
   "cell_type": "code",
   "execution_count": 405,
   "metadata": {},
   "outputs": [
    {
     "data": {
      "text/html": [
       "<div>\n",
       "<style scoped>\n",
       "    .dataframe tbody tr th:only-of-type {\n",
       "        vertical-align: middle;\n",
       "    }\n",
       "\n",
       "    .dataframe tbody tr th {\n",
       "        vertical-align: top;\n",
       "    }\n",
       "\n",
       "    .dataframe thead th {\n",
       "        text-align: right;\n",
       "    }\n",
       "</style>\n",
       "<table border=\"1\" class=\"dataframe\">\n",
       "  <thead>\n",
       "    <tr style=\"text-align: right;\">\n",
       "      <th></th>\n",
       "      <th>Período</th>\n",
       "      <th>Activo Neto- Valor de Mercado</th>\n",
       "      <th>Cotizaciones Netas</th>\n",
       "      <th>Pago de Pensiones</th>\n",
       "      <th>Activo_lagueado</th>\n",
       "      <th>tasa_rendimiento</th>\n",
       "    </tr>\n",
       "  </thead>\n",
       "  <tbody>\n",
       "    <tr>\n",
       "      <th>0</th>\n",
       "      <td>2012-12</td>\n",
       "      <td>8.879092e+05</td>\n",
       "      <td>NaN</td>\n",
       "      <td>NaN</td>\n",
       "      <td>NaN</td>\n",
       "      <td>NaN</td>\n",
       "    </tr>\n",
       "    <tr>\n",
       "      <th>1</th>\n",
       "      <td>2013-01</td>\n",
       "      <td>9.236808e+05</td>\n",
       "      <td>10027.416776</td>\n",
       "      <td>157.856132</td>\n",
       "      <td>8.879092e+05</td>\n",
       "      <td>0.029011</td>\n",
       "    </tr>\n",
       "    <tr>\n",
       "      <th>2</th>\n",
       "      <td>2013-02</td>\n",
       "      <td>9.414241e+05</td>\n",
       "      <td>4737.158978</td>\n",
       "      <td>144.107466</td>\n",
       "      <td>9.236808e+05</td>\n",
       "      <td>0.014202</td>\n",
       "    </tr>\n",
       "    <tr>\n",
       "      <th>3</th>\n",
       "      <td>2013-03</td>\n",
       "      <td>9.618599e+05</td>\n",
       "      <td>10334.929122</td>\n",
       "      <td>152.469575</td>\n",
       "      <td>9.414241e+05</td>\n",
       "      <td>0.010833</td>\n",
       "    </tr>\n",
       "    <tr>\n",
       "      <th>4</th>\n",
       "      <td>2013-04</td>\n",
       "      <td>9.155842e+05</td>\n",
       "      <td>-55787.844227</td>\n",
       "      <td>157.747894</td>\n",
       "      <td>9.618599e+05</td>\n",
       "      <td>0.010354</td>\n",
       "    </tr>\n",
       "    <tr>\n",
       "      <th>...</th>\n",
       "      <td>...</td>\n",
       "      <td>...</td>\n",
       "      <td>...</td>\n",
       "      <td>...</td>\n",
       "      <td>...</td>\n",
       "      <td>...</td>\n",
       "    </tr>\n",
       "    <tr>\n",
       "      <th>1490</th>\n",
       "      <td>2137-02</td>\n",
       "      <td>1.855877e+11</td>\n",
       "      <td>0.000000</td>\n",
       "      <td>0.000000</td>\n",
       "      <td>1.841425e+11</td>\n",
       "      <td>0.007848</td>\n",
       "    </tr>\n",
       "    <tr>\n",
       "      <th>1491</th>\n",
       "      <td>2137-03</td>\n",
       "      <td>1.870442e+11</td>\n",
       "      <td>0.000000</td>\n",
       "      <td>0.000000</td>\n",
       "      <td>1.855877e+11</td>\n",
       "      <td>0.007848</td>\n",
       "    </tr>\n",
       "    <tr>\n",
       "      <th>1492</th>\n",
       "      <td>2137-04</td>\n",
       "      <td>1.885122e+11</td>\n",
       "      <td>0.000000</td>\n",
       "      <td>0.000000</td>\n",
       "      <td>1.870442e+11</td>\n",
       "      <td>0.007848</td>\n",
       "    </tr>\n",
       "    <tr>\n",
       "      <th>1493</th>\n",
       "      <td>2137-05</td>\n",
       "      <td>1.899916e+11</td>\n",
       "      <td>0.000000</td>\n",
       "      <td>0.000000</td>\n",
       "      <td>1.885122e+11</td>\n",
       "      <td>0.007848</td>\n",
       "    </tr>\n",
       "    <tr>\n",
       "      <th>1494</th>\n",
       "      <td>2137-06</td>\n",
       "      <td>1.914827e+11</td>\n",
       "      <td>0.000000</td>\n",
       "      <td>0.000000</td>\n",
       "      <td>1.899916e+11</td>\n",
       "      <td>0.007848</td>\n",
       "    </tr>\n",
       "  </tbody>\n",
       "</table>\n",
       "<p>1495 rows × 6 columns</p>\n",
       "</div>"
      ],
      "text/plain": [
       "      Período  Activo Neto- Valor de Mercado  Cotizaciones Netas   \\\n",
       "0     2012-12                   8.879092e+05                  NaN   \n",
       "1     2013-01                   9.236808e+05         10027.416776   \n",
       "2     2013-02                   9.414241e+05          4737.158978   \n",
       "3     2013-03                   9.618599e+05         10334.929122   \n",
       "4     2013-04                   9.155842e+05        -55787.844227   \n",
       "...       ...                            ...                  ...   \n",
       "1490  2137-02                   1.855877e+11             0.000000   \n",
       "1491  2137-03                   1.870442e+11             0.000000   \n",
       "1492  2137-04                   1.885122e+11             0.000000   \n",
       "1493  2137-05                   1.899916e+11             0.000000   \n",
       "1494  2137-06                   1.914827e+11             0.000000   \n",
       "\n",
       "      Pago de Pensiones  Activo_lagueado  tasa_rendimiento  \n",
       "0                   NaN              NaN               NaN  \n",
       "1            157.856132     8.879092e+05          0.029011  \n",
       "2            144.107466     9.236808e+05          0.014202  \n",
       "3            152.469575     9.414241e+05          0.010833  \n",
       "4            157.747894     9.618599e+05          0.010354  \n",
       "...                 ...              ...               ...  \n",
       "1490           0.000000     1.841425e+11          0.007848  \n",
       "1491           0.000000     1.855877e+11          0.007848  \n",
       "1492           0.000000     1.870442e+11          0.007848  \n",
       "1493           0.000000     1.885122e+11          0.007848  \n",
       "1494           0.000000     1.899916e+11          0.007848  \n",
       "\n",
       "[1495 rows x 6 columns]"
      ]
     },
     "execution_count": 405,
     "metadata": {},
     "output_type": "execute_result"
    }
   ],
   "source": [
    "rendimientos"
   ]
  },
  {
   "cell_type": "code",
   "execution_count": 396,
   "metadata": {},
   "outputs": [
    {
     "data": {
      "text/plain": [
       "13.785005018299202"
      ]
     },
     "execution_count": 396,
     "metadata": {},
     "output_type": "execute_result"
    }
   ],
   "source": [
    "4.179158e+06 * 1000000 / 303166955286 # Activo actuarial/Pasivo actuarial"
   ]
  },
  {
   "cell_type": "code",
   "execution_count": 402,
   "metadata": {},
   "outputs": [
    {
     "data": {
      "text/plain": [
       "[<matplotlib.lines.Line2D at 0x1c1d9c03220>]"
      ]
     },
     "execution_count": 402,
     "metadata": {},
     "output_type": "execute_result"
    },
    {
     "data": {
      "image/png": "[encoded data removed]",
      "text/plain": [
       "<Figure size 432x288 with 1 Axes>"
      ]
     },
     "metadata": {
      "needs_background": "light"
     },
     "output_type": "display_data"
    }
   ],
   "source": [
    "pd.plotting.register_matplotlib_converters()\n",
    "plt.plot(rendimientos['Período'].dt.to_timestamp(),rendimientos['Activo Neto- Valor de Mercado'])"
   ]
  }
 ],
 "metadata": {
  "kernelspec": {
   "display_name": "Python 3 (ipykernel)",
   "language": "python",
   "name": "python3"
  },
  "language_info": {
   "codemirror_mode": {
    "name": "ipython",
    "version": 3
   },
   "file_extension": ".py",
   "mimetype": "text/x-python",
   "name": "python",
   "nbconvert_exporter": "python",
   "pygments_lexer": "ipython3",
   "version": "3.8.3"
  }
 },
 "nbformat": 4,
 "nbformat_minor": 4
}
