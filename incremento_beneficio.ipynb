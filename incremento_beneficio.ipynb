{
 "cells": [
  {
   "cell_type": "code",
   "execution_count": 151,
   "id": "736507f5",
   "metadata": {},
   "outputs": [],
   "source": [
    "import pandas as pd\n",
    "import numpy as np\n",
    "import datetime\n",
    "from dateutil import relativedelta\n",
    "\n",
    "def incremento_beneficio(fecha_inicio,edad,incremento,fecha_corte=\"01-06-2022\",omega=115):\n",
    "    #fecha corte default: 1ro de junio 2022\n",
    "    #se asume que ya cumplió años en el presente mes\n",
    "\n",
    "    meses_restantes=12*(omega-edad)\n",
    "\n",
    "    fechainicio = datetime.datetime.strptime(fecha_inicio, \"%d-%m-%Y\")\n",
    "    fechacorte = datetime.datetime.strptime(fecha_corte, \"%d-%m-%Y\")\n",
    "    deltaa = relativedelta.relativedelta(fechacorte, fechainicio)\n",
    "    meses_entre_fechas=deltaa.years*12+deltaa.months+1\n",
    "\n",
    "    longitud_vector=min(meses_restantes,meses_entre_fechas)\n",
    "\n",
    "    incremento_1=1+incremento\n",
    "\n",
    "    fechainicio_mes=fechainicio.month\n",
    "    mes_quiebre=fechainicio_mes % 12\n",
    "    vector=np.zeros(longitud_vector)\n",
    "\n",
    "\n",
    "    comp_meses=12-mes_quiebre\n",
    "    periodos=int(longitud_vector/12)\n",
    "\n",
    "    for i in range(0,longitud_vector):\n",
    "        vector[i]=(incremento_1)**(int((i+mes_quiebre)/12))\n",
    "    \n",
    "    for i in range(0,periodos):\n",
    "        vector[(12*i+comp_meses)]=2*vector[(12*i+comp_meses-1)]\n",
    "\n",
    "    return(vector)\n"
   ]
  },
  {
   "cell_type": "code",
   "execution_count": 147,
   "id": "a4c0c840",
   "metadata": {},
   "outputs": [
    {
     "data": {
      "text/plain": [
       "array([1.    , 1.    , 1.    , 1.    , 1.    , 1.    , 1.    , 1.    ,\n",
       "       1.    , 1.    , 2.    , 1.06  , 1.06  , 1.06  , 1.06  , 1.06  ,\n",
       "       1.06  , 1.06  , 1.06  , 1.06  , 1.06  , 1.06  , 2.12  , 1.1236,\n",
       "       1.1236, 1.1236, 1.1236, 1.1236, 1.1236])"
      ]
     },
     "execution_count": 147,
     "metadata": {},
     "output_type": "execute_result"
    }
   ],
   "source": [
    "incremento_beneficio(\"01-02-2020\",57,0.06)"
   ]
  },
  {
   "cell_type": "code",
   "execution_count": 148,
   "id": "c21c4588",
   "metadata": {},
   "outputs": [
    {
     "data": {
      "text/plain": [
       "array([1., 1., 1., 1., 1., 1., 1., 1., 1., 1., 2., 2.])"
      ]
     },
     "execution_count": 148,
     "metadata": {},
     "output_type": "execute_result"
    }
   ],
   "source": [
    "incremento_beneficio(\"01-02-2019\",114,1)"
   ]
  },
  {
   "cell_type": "code",
   "execution_count": 149,
   "id": "91ac90d8",
   "metadata": {},
   "outputs": [
    {
     "data": {
      "text/plain": [
       "array([1.       , 1.       , 1.       , 1.       , 1.       , 1.       ,\n",
       "       1.       , 1.       , 1.       , 1.       , 2.       , 1.0000001,\n",
       "       1.0000001, 1.0000001, 1.0000001, 1.0000001, 1.0000001])"
      ]
     },
     "execution_count": 149,
     "metadata": {},
     "output_type": "execute_result"
    }
   ],
   "source": [
    "incremento_beneficio(\"01-02-2021\",70,.0000001)"
   ]
  },
  {
   "cell_type": "code",
   "execution_count": null,
   "id": "f5c894c5",
   "metadata": {},
   "outputs": [],
   "source": []
  }
 ],
 "metadata": {
  "kernelspec": {
   "display_name": "Python 3 (ipykernel)",
   "language": "python",
   "name": "python3"
  },
  "language_info": {
   "codemirror_mode": {
    "name": "ipython",
    "version": 3
   },
   "file_extension": ".py",
   "mimetype": "text/x-python",
   "name": "python",
   "nbconvert_exporter": "python",
   "pygments_lexer": "ipython3",
   "version": "3.9.13"
  }
 },
 "nbformat": 4,
 "nbformat_minor": 5
}
