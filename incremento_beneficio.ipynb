{
 "cells": [
  {
   "cell_type": "code",
   "execution_count": 162,
   "id": "1f8268a0",
   "metadata": {},
   "outputs": [],
   "source": [
    "import pandas as pd\n",
    "import numpy as np\n",
    "import datetime\n",
    "from dateutil import relativedelta\n",
    "\n",
    "def incremento_beneficio(fecha_inicio,edad,incremento,meses_de_cumplir=0,fecha_corte=\"01-06-2022\",omega=115):\n",
    "    #fecha corte default: 1ro de junio 2022\n",
    "    #meses_de_cumplir: hace cuántos meses cumplió años (sin contar días), o 0 si cumple ese mes. \n",
    "    #Puede ser negativo, que correspondería a cuántos meses le faltan para cumplir años.\n",
    "\n",
    "    meses_restantes=12*(omega-edad)-meses_de_cumplir\n",
    "\n",
    "    fechainicio = datetime.datetime.strptime(fecha_inicio, \"%d-%m-%Y\")\n",
    "    fechacorte = datetime.datetime.strptime(fecha_corte, \"%d-%m-%Y\")\n",
    "    deltaa = relativedelta.relativedelta(fechacorte, fechainicio)\n",
    "    meses_entre_fechas=deltaa.years*12+deltaa.months+1\n",
    "\n",
    "    longitud_vector=min(meses_restantes,meses_entre_fechas)\n",
    "\n",
    "    incremento_1=1+incremento\n",
    "\n",
    "    fechainicio_mes=fechainicio.month\n",
    "    mes_quiebre=fechainicio_mes % 12\n",
    "    vector=np.zeros(longitud_vector)\n",
    "\n",
    "\n",
    "    comp_meses=12-mes_quiebre\n",
    "    periodos=int(longitud_vector/12)\n",
    "\n",
    "    for i in range(0,longitud_vector):\n",
    "        vector[i]=(incremento_1)**(int((i+mes_quiebre)/12))\n",
    "    \n",
    "    for i in range(0,periodos):\n",
    "        vector[(12*i+comp_meses)]=2*vector[(12*i+comp_meses-1)]\n",
    "\n",
    "    return(vector)\n"
   ]
  },
  {
   "cell_type": "code",
   "execution_count": 163,
   "id": "e6d75385",
   "metadata": {},
   "outputs": [
    {
     "data": {
      "text/plain": [
       "array([1.    , 1.    , 1.    , 1.    , 1.    , 1.    , 1.    , 1.    ,\n",
       "       1.    , 1.    , 2.    , 1.06  , 1.06  , 1.06  , 1.06  , 1.06  ,\n",
       "       1.06  , 1.06  , 1.06  , 1.06  , 1.06  , 1.06  , 2.12  , 1.1236,\n",
       "       1.1236, 1.1236, 1.1236, 1.1236, 1.1236])"
      ]
     },
     "execution_count": 163,
     "metadata": {},
     "output_type": "execute_result"
    }
   ],
   "source": [
    "incremento_beneficio(\"01-02-2020\",57,0.06)"
   ]
  },
  {
   "cell_type": "code",
   "execution_count": 164,
   "id": "4694fc7c",
   "metadata": {},
   "outputs": [
    {
     "data": {
      "text/plain": [
       "array([1., 1., 1., 1., 1., 1., 1., 1., 1., 1., 2.])"
      ]
     },
     "execution_count": 164,
     "metadata": {},
     "output_type": "execute_result"
    }
   ],
   "source": [
    "incremento_beneficio(\"01-02-2019\",114,1,1)"
   ]
  },
  {
   "cell_type": "code",
   "execution_count": 165,
   "id": "0f6854d1",
   "metadata": {},
   "outputs": [
    {
     "data": {
      "text/plain": [
       "array([1.       , 1.       , 1.       , 1.       , 1.       , 1.       ,\n",
       "       1.       , 1.       , 1.       , 1.       , 2.       , 1.0000001,\n",
       "       1.0000001, 1.0000001, 1.0000001, 1.0000001, 1.0000001])"
      ]
     },
     "execution_count": 165,
     "metadata": {},
     "output_type": "execute_result"
    }
   ],
   "source": [
    "incremento_beneficio(\"01-02-2021\",70,.0000001,3)"
   ]
  },
  {
   "cell_type": "code",
   "execution_count": null,
   "id": "b3576fe9",
   "metadata": {},
   "outputs": [],
   "source": []
  }
 ],
 "metadata": {
  "kernelspec": {
   "display_name": "Python 3 (ipykernel)",
   "language": "python",
   "name": "python3"
  },
  "language_info": {
   "codemirror_mode": {
    "name": "ipython",
    "version": 3
   },
   "file_extension": ".py",
   "mimetype": "text/x-python",
   "name": "python",
   "nbconvert_exporter": "python",
   "pygments_lexer": "ipython3",
   "version": "3.9.13"
  }
 },
 "nbformat": 4,
 "nbformat_minor": 5
}
